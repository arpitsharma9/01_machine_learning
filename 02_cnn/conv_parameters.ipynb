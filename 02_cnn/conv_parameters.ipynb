{
  "nbformat": 4,
  "nbformat_minor": 0,
  "metadata": {
    "colab": {
      "name": "Untitled2.ipynb",
      "version": "0.3.2",
      "provenance": [],
      "include_colab_link": true
    },
    "kernelspec": {
      "name": "python3",
      "display_name": "Python 3"
    }
  },
  "cells": [
    {
      "cell_type": "markdown",
      "metadata": {
        "id": "view-in-github",
        "colab_type": "text"
      },
      "source": [
        "[View in Colaboratory](https://colab.research.google.com/github/arpitsharma9/01_machine_learning/blob/master/02_cnn/conv_parameters.ipynb)"
      ]
    },
    {
      "metadata": {
        "id": "QVZVBKNnZ9uW",
        "colab_type": "code",
        "colab": {}
      },
      "cell_type": "code",
      "source": [
        "### Let's learn more about number of parameters and shape of convolution layer"
      ],
      "execution_count": 0,
      "outputs": []
    },
    {
      "metadata": {
        "id": "2hYOFIpTaIjW",
        "colab_type": "text"
      },
      "cell_type": "markdown",
      "source": [
        "Do the dimensions of the convolutional layer line up with your expectations?\n",
        "\n",
        "Feel free to change the values assigned to the arguments (filters, kernel_size, etc) in your conv-dims.py file.\n",
        "\n",
        "Take note of how the number of parameters in the convolutional layer changes. This corresponds to the value under Param # in the printed output. In the figure above, the convolutional layer has 80 parameters.\n",
        "\n",
        "Also notice how the shape of the convolutional layer changes. This corresponds to the value under Output Shape in the printed output. In the figure above, None corresponds to the batch size, and the convolutional layer has a height of 100, width of 100, and depth of 16.\n",
        "Formula: Number of Parameters in a Convolutional Layer\n",
        "The number of parameters in a convolutional layer depends on the supplied values of filters, kernel_size, and input_shape. Let's define a few variables:\n",
        "\n",
        "K - the number of filters in the convolutional layer\n",
        "F - the height and width of the convolutional filters\n",
        "D_in - the depth of the previous layer\n",
        "Notice that K = filters, and F = kernel_size. Likewise, D_in is the last value in the input_shape tuple.\n",
        "\n",
        "Since there are F*F*D_in weights per filter, and the convolutional layer is composed of K filters, the total number of weights in the convolutional layer is K*F*F*D_in. Since there is one bias term per filter, the convolutional layer has K biases. Thus, the number of parameters in the convolutional layer is given by K*F*F*D_in + K.\n",
        "Formula: Shape of a Convolutional Layer\n",
        "The shape of a convolutional layer depends on the supplied values of kernel_size, input_shape, padding, and stride. Let's define a few variables:\n",
        "\n",
        "K - the number of filters in the convolutional layer\n",
        "F - the height and width of the convolutional filters\n",
        "S - the stride of the convolution\n",
        "H_in - the height of the previous layer\n",
        "W_in - the width of the previous layer\n",
        "Notice that K = filters, F = kernel_size, and S = stride. Likewise, H_in and W_in are the first and second value of the input_shape tuple, respectively.\n",
        "\n",
        "The depth of the convolutional layer will always equal the number of filters K.\n",
        "\n",
        "If padding = 'same', then the spatial dimensions of the convolutional layer are the following:\n",
        "\n",
        "height = ceil(float(H_in) / float(S))\n",
        "width = ceil(float(W_in) / float(S))\n",
        "If padding = 'valid', then the spatial dimensions of the convolutional layer are the following:\n",
        "\n",
        "height = ceil(float(H_in - F + 1) / float(S))\n",
        "width = ceil(float(W_in - F + 1) / float(S))"
      ]
    },
    {
      "metadata": {
        "id": "_oTKI1OTaG0M",
        "colab_type": "text"
      },
      "cell_type": "markdown",
      "source": [
        ""
      ]
    },
    {
      "metadata": {
        "id": "GKKINy6QaF4l",
        "colab_type": "code",
        "colab": {
          "base_uri": "https://localhost:8080/",
          "height": 374
        },
        "outputId": "31bbb417-5fc8-468d-a81c-da2088e9b201"
      },
      "cell_type": "code",
      "source": [
        "from math import ceil\n",
        "from keras.models import Sequential\n",
        "from keras.layers import Conv2D\n",
        "\n",
        "model = Sequential()\n",
        "model.add(Conv2D(filters=32, kernel_size=3, strides=2, padding=\"same\",\n",
        "\tactivation=\"relu\", input_shape=(128, 128, 3)))\n",
        "model.summary()\n",
        "\n",
        "# Parameters = K * Weights + K = K * F * F * D_in + K\n",
        "number_parameters = 32 * 3 * 3 * 3 + 32\n",
        "\n",
        "# Shape of convolutional layer\n",
        "\n",
        "# Depth = K\n",
        "depth = 32\n",
        "\n",
        "# Since it is a same padding: height=ceil(H_in/S)\n",
        "height = ceil(float(128)/float(2))\n",
        "width = ceil(float(128)/float(2))\n",
        "\n",
        "print(\"Number of parameters: \", number_parameters)\n",
        "print(\"Shape of Convolutional layer (%d,%d,%d)\" % (height, width, depth))\n",
        "\n",
        "model_2 = Sequential()\n",
        "model_2.add(Conv2D(filters=32, kernel_size=3, strides=2, padding=\"valid\",\n",
        "\tactivation=\"relu\", input_shape=(128, 128, 3)))\n",
        "model_2.summary()\n",
        "\n",
        "\n",
        "# Since it is a valid padding: height=ceil(H_in/S)\n",
        "height_2 = ceil(float(128-3+1)/float(2))\n",
        "width_2 = ceil(float(128-3+1)/float(2))\n",
        "\n",
        "\n",
        "\n",
        "\n",
        "print(\"Shape of Convolutional layer (%d,%d,%d) valid padding\" % (height_2, width_2, depth))"
      ],
      "execution_count": 3,
      "outputs": [
        {
          "output_type": "stream",
          "text": [
            "_________________________________________________________________\n",
            "Layer (type)                 Output Shape              Param #   \n",
            "=================================================================\n",
            "conv2d_1 (Conv2D)            (None, 64, 64, 32)        896       \n",
            "=================================================================\n",
            "Total params: 896\n",
            "Trainable params: 896\n",
            "Non-trainable params: 0\n",
            "_________________________________________________________________\n",
            "Number of parameters:  896\n",
            "Shape of Convolutional layer (64,64,32)\n",
            "_________________________________________________________________\n",
            "Layer (type)                 Output Shape              Param #   \n",
            "=================================================================\n",
            "conv2d_2 (Conv2D)            (None, 63, 63, 32)        896       \n",
            "=================================================================\n",
            "Total params: 896\n",
            "Trainable params: 896\n",
            "Non-trainable params: 0\n",
            "_________________________________________________________________\n",
            "Shape of Convolutional layer (63,63,32) valid padding\n"
          ],
          "name": "stdout"
        }
      ]
    },
    {
      "metadata": {
        "id": "rfHebrJ_DkdX",
        "colab_type": "code",
        "colab": {
          "base_uri": "https://localhost:8080/",
          "height": 170
        },
        "outputId": "9cf69ddf-e602-45c6-de00-315deef4151d"
      },
      "cell_type": "code",
      "source": [
        "from keras.models import Sequential\n",
        "from keras.layers import MaxPooling2D\n",
        "\n",
        "model = Sequential()\n",
        "model.add(MaxPooling2D(pool_size=2, strides=2, input_shape=(100, 100, 15)))\n",
        "model.summary()"
      ],
      "execution_count": 4,
      "outputs": [
        {
          "output_type": "stream",
          "text": [
            "_________________________________________________________________\n",
            "Layer (type)                 Output Shape              Param #   \n",
            "=================================================================\n",
            "max_pooling2d_2 (MaxPooling2 (None, 50, 50, 15)        0         \n",
            "=================================================================\n",
            "Total params: 0\n",
            "Trainable params: 0\n",
            "Non-trainable params: 0\n",
            "_________________________________________________________________\n"
          ],
          "name": "stdout"
        }
      ]
    }
  ]
}