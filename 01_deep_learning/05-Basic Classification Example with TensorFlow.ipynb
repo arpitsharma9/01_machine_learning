{
    "nbformat_minor": 1, 
    "cells": [
        {
            "source": "\n\n# Basic Classification Example with TensorFlow\n\nThis notebook is a companion of [A Visual and Interactive Guide to the Basics of Neural Networks](https://jalammar.github.io/visual-interactive-guide-basics-neural-networks/).\n\nThis is an example of how to do classification on a simple dataset in TensorFlow. Basically, we're building a model to help a friend choose a house to buy. She has given us the table below of houses and whether she likes them or not. We're to build a model that takes a house area and number of bathrooms as input, and outputs a prediction of whether she would like the house or not.\n\n| Area (sq ft) (x1) | Bathrooms (x2) | Label (y) |\n | --- | --- | --- |\n | 2,104 |  3 | Good |\n | 1,600 |  3 | Good |\n | 2,400 |  3 | Good |\n | 1,416 | \t2 | Bad |\n | 3,000 | \t4 | Bad |\n | 1,985 | \t4 | Good |\n | 1,534 | \t3 | Bad |\n | 1,427 | \t3 | Good |\n | 1,380 | \t3 | Good |\n | 1,494 | \t3 | Good |\n \n \n \n We'll start by loading our favorite libraries", 
            "cell_type": "markdown", 
            "metadata": {}
        }, 
        {
            "execution_count": 1, 
            "cell_type": "code", 
            "metadata": {}, 
            "outputs": [
                {
                    "execution_count": 1, 
                    "metadata": {}, 
                    "data": {
                        "text/html": "<div>\n<style scoped>\n    .dataframe tbody tr th:only-of-type {\n        vertical-align: middle;\n    }\n\n    .dataframe tbody tr th {\n        vertical-align: top;\n    }\n\n    .dataframe thead th {\n        text-align: right;\n    }\n</style>\n<table border=\"1\" class=\"dataframe\">\n  <thead>\n    <tr style=\"text-align: right;\">\n      <th></th>\n      <th>index</th>\n      <th>area</th>\n      <th>bathrooms</th>\n      <th>price</th>\n      <th>sq_price</th>\n    </tr>\n  </thead>\n  <tbody>\n    <tr>\n      <th>0</th>\n      <td>0</td>\n      <td>2104.0</td>\n      <td>3.0</td>\n      <td>399900.0</td>\n      <td>190.066540</td>\n    </tr>\n    <tr>\n      <th>1</th>\n      <td>1</td>\n      <td>1600.0</td>\n      <td>3.0</td>\n      <td>329900.0</td>\n      <td>206.187500</td>\n    </tr>\n    <tr>\n      <th>2</th>\n      <td>2</td>\n      <td>2400.0</td>\n      <td>3.0</td>\n      <td>369000.0</td>\n      <td>153.750000</td>\n    </tr>\n    <tr>\n      <th>3</th>\n      <td>3</td>\n      <td>1416.0</td>\n      <td>2.0</td>\n      <td>232000.0</td>\n      <td>163.841808</td>\n    </tr>\n    <tr>\n      <th>4</th>\n      <td>4</td>\n      <td>3000.0</td>\n      <td>4.0</td>\n      <td>539900.0</td>\n      <td>179.966667</td>\n    </tr>\n  </tbody>\n</table>\n</div>", 
                        "text/plain": "   index    area  bathrooms     price    sq_price\n0      0  2104.0        3.0  399900.0  190.066540\n1      1  1600.0        3.0  329900.0  206.187500\n2      2  2400.0        3.0  369000.0  153.750000\n3      3  1416.0        2.0  232000.0  163.841808\n4      4  3000.0        4.0  539900.0  179.966667"
                    }, 
                    "output_type": "execute_result"
                }
            ], 
            "source": "# The code was removed by Watson Studio for sharing."
        }, 
        {
            "execution_count": 2, 
            "cell_type": "code", 
            "metadata": {}, 
            "outputs": [], 
            "source": "%matplotlib inline               \nimport pandas as pd              # A beautiful library to help us work with data as tables\nimport numpy as np               # So we can use number matrices. Both pandas and TensorFlow need it. \nimport matplotlib.pyplot as plt  # Visualize the things\nimport tensorflow as tf          # Fire from the gods\n"
        }, 
        {
            "source": "We'll then load the house data CSV. Pandas is an incredible library that gives us great flexibility in dealing with table-like data. We load tables (or csv files, or excel sheets) into a \"data frame\", and process it however we like. You can think of it as a programatic way to do a lot of the things you previously did with Excel.", 
            "cell_type": "markdown", 
            "metadata": {}
        }, 
        {
            "execution_count": 3, 
            "cell_type": "code", 
            "metadata": {
                "scrolled": true
            }, 
            "outputs": [
                {
                    "execution_count": 3, 
                    "metadata": {}, 
                    "data": {
                        "text/html": "<div>\n<style scoped>\n    .dataframe tbody tr th:only-of-type {\n        vertical-align: middle;\n    }\n\n    .dataframe tbody tr th {\n        vertical-align: top;\n    }\n\n    .dataframe thead th {\n        text-align: right;\n    }\n</style>\n<table border=\"1\" class=\"dataframe\">\n  <thead>\n    <tr style=\"text-align: right;\">\n      <th></th>\n      <th>area</th>\n      <th>bathrooms</th>\n    </tr>\n  </thead>\n  <tbody>\n    <tr>\n      <th>0</th>\n      <td>2104.0</td>\n      <td>3.0</td>\n    </tr>\n    <tr>\n      <th>1</th>\n      <td>1600.0</td>\n      <td>3.0</td>\n    </tr>\n    <tr>\n      <th>2</th>\n      <td>2400.0</td>\n      <td>3.0</td>\n    </tr>\n    <tr>\n      <th>3</th>\n      <td>1416.0</td>\n      <td>2.0</td>\n    </tr>\n    <tr>\n      <th>4</th>\n      <td>3000.0</td>\n      <td>4.0</td>\n    </tr>\n    <tr>\n      <th>5</th>\n      <td>1985.0</td>\n      <td>4.0</td>\n    </tr>\n    <tr>\n      <th>6</th>\n      <td>1534.0</td>\n      <td>3.0</td>\n    </tr>\n    <tr>\n      <th>7</th>\n      <td>1427.0</td>\n      <td>3.0</td>\n    </tr>\n    <tr>\n      <th>8</th>\n      <td>1380.0</td>\n      <td>3.0</td>\n    </tr>\n    <tr>\n      <th>9</th>\n      <td>1494.0</td>\n      <td>3.0</td>\n    </tr>\n  </tbody>\n</table>\n</div>", 
                        "text/plain": "     area  bathrooms\n0  2104.0        3.0\n1  1600.0        3.0\n2  2400.0        3.0\n3  1416.0        2.0\n4  3000.0        4.0\n5  1985.0        4.0\n6  1534.0        3.0\n7  1427.0        3.0\n8  1380.0        3.0\n9  1494.0        3.0"
                    }, 
                    "output_type": "execute_result"
                }
            ], 
            "source": "#dataframe = pd.read_csv(\"data.csv\") # Let's have Pandas load our dataset as a dataframe\ndataframe=df_data_1\ndataframe = dataframe.drop([\"index\", \"price\", \"sq_price\"], axis=1) # Remove columns we don't care about\ndataframe = dataframe[0:10] # We'll only use the first 10 rows of the dataset in this example\ndataframe # Let's have the notebook show us how the dataframe looks now"
        }, 
        {
            "source": "The dataframe now only has the features. Let's introduce the labels.", 
            "cell_type": "markdown", 
            "metadata": {}
        }, 
        {
            "execution_count": 4, 
            "cell_type": "code", 
            "metadata": {}, 
            "outputs": [
                {
                    "execution_count": 4, 
                    "metadata": {}, 
                    "data": {
                        "text/html": "<div>\n<style scoped>\n    .dataframe tbody tr th:only-of-type {\n        vertical-align: middle;\n    }\n\n    .dataframe tbody tr th {\n        vertical-align: top;\n    }\n\n    .dataframe thead th {\n        text-align: right;\n    }\n</style>\n<table border=\"1\" class=\"dataframe\">\n  <thead>\n    <tr style=\"text-align: right;\">\n      <th></th>\n      <th>area</th>\n      <th>bathrooms</th>\n      <th>y1</th>\n      <th>y2</th>\n    </tr>\n  </thead>\n  <tbody>\n    <tr>\n      <th>0</th>\n      <td>2104.0</td>\n      <td>3.0</td>\n      <td>1</td>\n      <td>0</td>\n    </tr>\n    <tr>\n      <th>1</th>\n      <td>1600.0</td>\n      <td>3.0</td>\n      <td>1</td>\n      <td>0</td>\n    </tr>\n    <tr>\n      <th>2</th>\n      <td>2400.0</td>\n      <td>3.0</td>\n      <td>1</td>\n      <td>0</td>\n    </tr>\n    <tr>\n      <th>3</th>\n      <td>1416.0</td>\n      <td>2.0</td>\n      <td>0</td>\n      <td>1</td>\n    </tr>\n    <tr>\n      <th>4</th>\n      <td>3000.0</td>\n      <td>4.0</td>\n      <td>0</td>\n      <td>1</td>\n    </tr>\n    <tr>\n      <th>5</th>\n      <td>1985.0</td>\n      <td>4.0</td>\n      <td>1</td>\n      <td>0</td>\n    </tr>\n    <tr>\n      <th>6</th>\n      <td>1534.0</td>\n      <td>3.0</td>\n      <td>0</td>\n      <td>1</td>\n    </tr>\n    <tr>\n      <th>7</th>\n      <td>1427.0</td>\n      <td>3.0</td>\n      <td>1</td>\n      <td>0</td>\n    </tr>\n    <tr>\n      <th>8</th>\n      <td>1380.0</td>\n      <td>3.0</td>\n      <td>1</td>\n      <td>0</td>\n    </tr>\n    <tr>\n      <th>9</th>\n      <td>1494.0</td>\n      <td>3.0</td>\n      <td>1</td>\n      <td>0</td>\n    </tr>\n  </tbody>\n</table>\n</div>", 
                        "text/plain": "     area  bathrooms  y1  y2\n0  2104.0        3.0   1   0\n1  1600.0        3.0   1   0\n2  2400.0        3.0   1   0\n3  1416.0        2.0   0   1\n4  3000.0        4.0   0   1\n5  1985.0        4.0   1   0\n6  1534.0        3.0   0   1\n7  1427.0        3.0   1   0\n8  1380.0        3.0   1   0\n9  1494.0        3.0   1   0"
                    }, 
                    "output_type": "execute_result"
                }
            ], 
            "source": "dataframe.loc[:, (\"y1\")] = [1, 1, 1, 0, 0, 1, 0, 1, 1, 1] # This is our friend's list of which houses she liked\n                                                          # 1 = good, 0 = bad\ndataframe.loc[:, (\"y2\")] = dataframe[\"y1\"] == 0           # y2 is the negation of y1\ndataframe.loc[:, (\"y2\")] = dataframe[\"y2\"].astype(int)    # Turn TRUE/FALSE values into 1/0\n# y2 means we don't like a house\n# (Yes, it's redundant. But learning to do it this way opens the door to Multiclass classification)\ndataframe # How is our dataframe looking now?"
        }, 
        {
            "source": "Now that we have all our data in the dataframe, we'll need to shape it in matrices to feed it to TensorFlow", 
            "cell_type": "markdown", 
            "metadata": {}
        }, 
        {
            "execution_count": 5, 
            "cell_type": "code", 
            "metadata": {
                "scrolled": false
            }, 
            "outputs": [], 
            "source": "inputX = dataframe.loc[:, ['area', 'bathrooms']].as_matrix()\ninputY = dataframe.loc[:, [\"y1\", \"y2\"]].as_matrix()"
        }, 
        {
            "source": "So now our input matrix looks like this:", 
            "cell_type": "markdown", 
            "metadata": {}
        }, 
        {
            "execution_count": 6, 
            "cell_type": "code", 
            "metadata": {}, 
            "outputs": [
                {
                    "execution_count": 6, 
                    "metadata": {}, 
                    "data": {
                        "text/plain": "array([[  2.10400000e+03,   3.00000000e+00],\n       [  1.60000000e+03,   3.00000000e+00],\n       [  2.40000000e+03,   3.00000000e+00],\n       [  1.41600000e+03,   2.00000000e+00],\n       [  3.00000000e+03,   4.00000000e+00],\n       [  1.98500000e+03,   4.00000000e+00],\n       [  1.53400000e+03,   3.00000000e+00],\n       [  1.42700000e+03,   3.00000000e+00],\n       [  1.38000000e+03,   3.00000000e+00],\n       [  1.49400000e+03,   3.00000000e+00]])"
                    }, 
                    "output_type": "execute_result"
                }
            ], 
            "source": "inputX"
        }, 
        {
            "source": "And our labels matrix looks like this:", 
            "cell_type": "markdown", 
            "metadata": {}
        }, 
        {
            "execution_count": 7, 
            "cell_type": "code", 
            "metadata": {}, 
            "outputs": [
                {
                    "execution_count": 7, 
                    "metadata": {}, 
                    "data": {
                        "text/plain": "array([[1, 0],\n       [1, 0],\n       [1, 0],\n       [0, 1],\n       [0, 1],\n       [1, 0],\n       [0, 1],\n       [1, 0],\n       [1, 0],\n       [1, 0]])"
                    }, 
                    "output_type": "execute_result"
                }
            ], 
            "source": "inputY"
        }, 
        {
            "source": "Let's prepare some parameters for the training process", 
            "cell_type": "markdown", 
            "metadata": {}
        }, 
        {
            "execution_count": 8, 
            "cell_type": "code", 
            "metadata": {}, 
            "outputs": [], 
            "source": "# Parameters\nlearning_rate = 0.000001\ntraining_epochs = 2000\ndisplay_step = 50\nn_samples = inputY.size"
        }, 
        {
            "source": "And now to define the TensorFlow operations. Notice that this is a declaration step where we tell TensorFlow how the prediction is calculated. If we execute it, no calculation would be made. It would just acknowledge that it now knows how to do the operation.", 
            "cell_type": "markdown", 
            "metadata": {}
        }, 
        {
            "execution_count": 9, 
            "cell_type": "code", 
            "metadata": {}, 
            "outputs": [], 
            "source": "x = tf.placeholder(tf.float32, [None, 2])   # Okay TensorFlow, we'll feed you an array of examples. Each example will\n                                            # be an array of two float values (area, and number of bathrooms).\n                                            # \"None\" means we can feed you any number of examples\n                                            # Notice we haven't fed it the values yet\n            \nW = tf.Variable(tf.zeros([2, 2]))           # Maintain a 2 x 2 float matrix for the weights that we'll keep updating \n                                            # through the training process (make them all zero to begin with)\n    \nb = tf.Variable(tf.zeros([2]))              # Also maintain two bias values\n\ny_values = tf.add(tf.matmul(x, W), b)       # The first step in calculating the prediction would be to multiply\n                                            # the inputs matrix by the weights matrix then add the biases\n    \ny = tf.nn.softmax(y_values)                 # Then we use softmax as an \"activation function\" that translates the\n                                            # numbers outputted by the previous layer into probability form\n    \ny_ = tf.placeholder(tf.float32, [None,2])   # For training purposes, we'll also feed you a matrix of labels"
        }, 
        {
            "source": "Let's specify our cost function and use Gradient Descent", 
            "cell_type": "markdown", 
            "metadata": {}
        }, 
        {
            "execution_count": 10, 
            "cell_type": "code", 
            "metadata": {}, 
            "outputs": [], 
            "source": "\n# Cost function: Mean squared error\ncost = tf.reduce_sum(tf.pow(y_ - y, 2))/(2*n_samples)\n# Gradient descent\noptimizer = tf.train.GradientDescentOptimizer(learning_rate).minimize(cost)\n"
        }, 
        {
            "execution_count": 11, 
            "cell_type": "code", 
            "metadata": {}, 
            "outputs": [
                {
                    "output_type": "stream", 
                    "name": "stdout", 
                    "text": "WARNING:tensorflow:From /opt/conda/envs/DSX-Python35/lib/python3.5/site-packages/tensorflow/python/util/tf_should_use.py:175: initialize_all_variables (from tensorflow.python.ops.variables) is deprecated and will be removed after 2017-03-02.\nInstructions for updating:\nUse `tf.global_variables_initializer` instead.\n"
                }
            ], 
            "source": "# Initialize variabls and tensorflow session\ninit = tf.initialize_all_variables()\nsess = tf.Session()\nsess.run(init)"
        }, 
        {
            "source": "*Drum roll*\n\nAnd now for the actual training", 
            "cell_type": "markdown", 
            "metadata": {}
        }, 
        {
            "execution_count": 12, 
            "cell_type": "code", 
            "metadata": {
                "scrolled": false
            }, 
            "outputs": [
                {
                    "ename": "SyntaxError", 
                    "evalue": "invalid syntax (<ipython-input-12-b7b781af4507>, line 8)", 
                    "traceback": [
                        "\u001b[0;36m  File \u001b[0;32m\"<ipython-input-12-b7b781af4507>\"\u001b[0;36m, line \u001b[0;32m8\u001b[0m\n\u001b[0;31m    print \"Training step:\", '%04d' % (i), \"cost=\", \"{:.9f}\".format(cc) #, \\\"W=\", sess.run(W), \"b=\", sess.run(b)\u001b[0m\n\u001b[0m                         ^\u001b[0m\n\u001b[0;31mSyntaxError\u001b[0m\u001b[0;31m:\u001b[0m invalid syntax\n"
                    ], 
                    "output_type": "error"
                }
            ], 
            "source": "for i in range(training_epochs):  \n    sess.run(optimizer, feed_dict={x: inputX, y_: inputY}) # Take a gradient descent step using our inputs and labels\n\n    # That's all! The rest of the cell just outputs debug messages. \n    # Display logs per epoch step\n    if (i) % display_step == 0:\n        cc = sess.run(cost, feed_dict={x: inputX, y_:inputY})\n        print \"Training step:\", '%04d' % (i), \"cost=\", \"{:.9f}\".format(cc) #, \\\"W=\", sess.run(W), \"b=\", sess.run(b)\n\nprint \"Optimization Finished!\"\ntraining_cost = sess.run(cost, feed_dict={x: inputX, y_: inputY})\nprint \"Training cost=\", training_cost, \"W=\", sess.run(W), \"b=\", sess.run(b), '\\n'\n"
        }, 
        {
            "source": "Now the training is done. TensorFlow is now holding on to our trained model (Which is basically just the defined operations, plus the variables W and b that resulted from the training process).\n\nIs a cost value of 0.109537 good or bad? I have no idea. At least it's better than the first cost value of 0.114958666. Let's use the model on our dataset to see how it does, though:", 
            "cell_type": "markdown", 
            "metadata": {
                "collapsed": true
            }
        }, 
        {
            "execution_count": null, 
            "cell_type": "code", 
            "metadata": {}, 
            "outputs": [], 
            "source": "sess.run(y, feed_dict={x: inputX })"
        }, 
        {
            "source": "So It's guessing they're all good houses. That makes it get 7/10 correct. Not terribly impressive. A model with a hidden layer should do better, I guess.", 
            "cell_type": "markdown", 
            "metadata": {}
        }, 
        {
            "source": "Btw, this is how I calculated the softmax values in the post:", 
            "cell_type": "markdown", 
            "metadata": {}
        }, 
        {
            "execution_count": null, 
            "cell_type": "code", 
            "metadata": {}, 
            "outputs": [], 
            "source": "sess.run(tf.nn.softmax([1., 2.]))"
        }
    ], 
    "metadata": {
        "kernelspec": {
            "display_name": "Python 3.5", 
            "name": "python3", 
            "language": "python"
        }, 
        "language_info": {
            "mimetype": "text/x-python", 
            "nbconvert_exporter": "python", 
            "version": "3.5.5", 
            "name": "python", 
            "file_extension": ".py", 
            "pygments_lexer": "ipython3", 
            "codemirror_mode": {
                "version": 3, 
                "name": "ipython"
            }
        }, 
        "anaconda-cloud": {}
    }, 
    "nbformat": 4
}