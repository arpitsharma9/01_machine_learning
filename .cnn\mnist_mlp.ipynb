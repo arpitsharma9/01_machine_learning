{
  "nbformat": 4,
  "nbformat_minor": 0,
  "metadata": {
    "colab": {
      "name": "mnist_mlp.ipynb",
      "version": "0.3.2",
      "provenance": [],
      "include_colab_link": true
    },
    "kernelspec": {
      "name": "python3",
      "display_name": "Python 3"
    },
    "accelerator": "GPU"
  },
  "cells": [
    {
      "cell_type": "markdown",
      "metadata": {
        "id": "view-in-github",
        "colab_type": "text"
      },
      "source": [
        "[View in Colaboratory](https://colab.research.google.com/github/arpitsharma9/01_machine_learning/blob/master/.cnn/mnist_mlp.ipynb)"
      ]
    },
    {
      "metadata": {
        "id": "FMdeZAQ2oyMt",
        "colab_type": "text"
      },
      "cell_type": "markdown",
      "source": [
        "# Artificial Intelligence Nanodegree\n",
        "\n",
        "## Convolutional Neural Networks\n",
        "\n",
        "---\n",
        "\n",
        "In this notebook, we train an MLP to classify images from the MNIST database.\n",
        "\n",
        "### 1. Load MNIST Database"
      ]
    },
    {
      "metadata": {
        "id": "iejY2X6zoyMv",
        "colab_type": "code",
        "colab": {
          "base_uri": "https://localhost:8080/",
          "height": 102
        },
        "outputId": "f7f742bd-510b-465f-cd54-ab6ba8bbc0cb"
      },
      "cell_type": "code",
      "source": [
        "from keras.datasets import mnist\n",
        "\n",
        "# use Keras to import pre-shuffled MNIST database\n",
        "(X_train, y_train), (X_test, y_test) = mnist.load_data()\n",
        "\n",
        "print(\"The MNIST database has a training set of %d examples.\" % len(X_train))\n",
        "print(\"The MNIST database has a test set of %d examples.\" % len(X_test))"
      ],
      "execution_count": 1,
      "outputs": [
        {
          "output_type": "stream",
          "text": [
            "Using TensorFlow backend.\n"
          ],
          "name": "stderr"
        },
        {
          "output_type": "stream",
          "text": [
            "Downloading data from https://s3.amazonaws.com/img-datasets/mnist.npz\n",
            "11493376/11490434 [==============================] - 5s 0us/step\n",
            "The MNIST database has a training set of 60000 examples.\n",
            "The MNIST database has a test set of 10000 examples.\n"
          ],
          "name": "stdout"
        }
      ]
    },
    {
      "metadata": {
        "id": "NgA07MUZoyM9",
        "colab_type": "text"
      },
      "cell_type": "markdown",
      "source": [
        "### 2. Visualize the First Six Training Images"
      ]
    },
    {
      "metadata": {
        "id": "aVp656WqoyM-",
        "colab_type": "code",
        "colab": {}
      },
      "cell_type": "code",
      "source": [
        "import matplotlib.pyplot as plt\n",
        "%matplotlib inline\n",
        "import matplotlib.cm as cm\n",
        "import numpy as np\n",
        "\n",
        "# plot first six training images\n",
        "fig = plt.figure(figsize=(20,20))\n",
        "for i in range(6):\n",
        "    ax = fig.add_subplot(1, 6, i+1, xticks=[], yticks=[])\n",
        "    ax.imshow(X_train[i], cmap='gray')\n",
        "    ax.set_title(str(y_train[i]))"
      ],
      "execution_count": 0,
      "outputs": []
    },
    {
      "metadata": {
        "id": "JS-IRIYsoyNE",
        "colab_type": "text"
      },
      "cell_type": "markdown",
      "source": [
        "### 3. View an Image in More Detail"
      ]
    },
    {
      "metadata": {
        "id": "Xh5lhQhEoyNG",
        "colab_type": "code",
        "colab": {}
      },
      "cell_type": "code",
      "source": [
        "def visualize_input(img, ax):\n",
        "    ax.imshow(img, cmap='gray')\n",
        "    width, height = img.shape\n",
        "    thresh = img.max()/2.5\n",
        "    for x in range(width):\n",
        "        for y in range(height):\n",
        "            ax.annotate(str(round(img[x][y],2)), xy=(y,x),\n",
        "                        horizontalalignment='center',\n",
        "                        verticalalignment='center',\n",
        "                        color='white' if img[x][y]<thresh else 'black')\n",
        "\n",
        "fig = plt.figure(figsize = (12,12)) \n",
        "ax = fig.add_subplot(111)\n",
        "visualize_input(X_train[0], ax)"
      ],
      "execution_count": 0,
      "outputs": []
    },
    {
      "metadata": {
        "id": "ENpmQuq1oyNM",
        "colab_type": "text"
      },
      "cell_type": "markdown",
      "source": [
        "### 4. Rescale the Images by Dividing Every Pixel in Every Image by 255"
      ]
    },
    {
      "metadata": {
        "id": "zIMKLOgBoyNN",
        "colab_type": "code",
        "colab": {}
      },
      "cell_type": "code",
      "source": [
        "# rescale [0,255] --> [0,1]\n",
        "X_train = X_train.astype('float32')/255\n",
        "X_test = X_test.astype('float32')/255 "
      ],
      "execution_count": 0,
      "outputs": []
    },
    {
      "metadata": {
        "id": "DrO66af1oyNR",
        "colab_type": "text"
      },
      "cell_type": "markdown",
      "source": [
        "### 5. Encode Categorical Integer Labels Using a One-Hot Scheme"
      ]
    },
    {
      "metadata": {
        "id": "khYQu2hBoyNS",
        "colab_type": "code",
        "colab": {}
      },
      "cell_type": "code",
      "source": [
        "from keras.utils import np_utils\n",
        "\n",
        "# print first ten (integer-valued) training labels\n",
        "print('Integer-valued labels:')\n",
        "print(y_train[:10])\n",
        "\n",
        "# one-hot encode the labels\n",
        "y_train = np_utils.to_categorical(y_train, 10)\n",
        "y_test = np_utils.to_categorical(y_test, 10)\n",
        "\n",
        "# print first ten (one-hot) training labels\n",
        "print('One-hot labels:')\n",
        "print(y_train[:10])"
      ],
      "execution_count": 0,
      "outputs": []
    },
    {
      "metadata": {
        "id": "N9-i9sNQoyNW",
        "colab_type": "text"
      },
      "cell_type": "markdown",
      "source": [
        "### 6. Define the Model Architecture"
      ]
    },
    {
      "metadata": {
        "id": "LBROx8J_oyNX",
        "colab_type": "code",
        "colab": {}
      },
      "cell_type": "code",
      "source": [
        "from keras.models import Sequential\n",
        "from keras.layers import Dense, Dropout, Flatten\n",
        "\n",
        "# define the model\n",
        "model = Sequential()\n",
        "model.add(Flatten(input_shape=X_train.shape[1:]))\n",
        "model.add(Dense(512, activation='relu'))\n",
        "model.add(Dropout(0.2))\n",
        "model.add(Dense(512, activation='relu'))\n",
        "model.add(Dropout(0.2))\n",
        "model.add(Dense(10, activation='softmax'))\n",
        "\n",
        "# summarize the model\n",
        "model.summary()"
      ],
      "execution_count": 0,
      "outputs": []
    },
    {
      "metadata": {
        "id": "3DTfgAOXoyNa",
        "colab_type": "text"
      },
      "cell_type": "markdown",
      "source": [
        "### 7. Compile the Model"
      ]
    },
    {
      "metadata": {
        "id": "NljppKTeoyNb",
        "colab_type": "code",
        "colab": {}
      },
      "cell_type": "code",
      "source": [
        "# compile the model\n",
        "model.compile(loss='categorical_crossentropy', optimizer='rmsprop', \n",
        "              metrics=['accuracy'])"
      ],
      "execution_count": 0,
      "outputs": []
    },
    {
      "metadata": {
        "id": "w7Ab6L_EoyNe",
        "colab_type": "text"
      },
      "cell_type": "markdown",
      "source": [
        "### 8. Calculate the Classification Accuracy on the Test Set (Before Training)"
      ]
    },
    {
      "metadata": {
        "id": "_NfPUIAjoyNf",
        "colab_type": "code",
        "colab": {}
      },
      "cell_type": "code",
      "source": [
        "# evaluate test accuracy\n",
        "score = model.evaluate(X_test, y_test, verbose=0)\n",
        "accuracy = 100*score[1]\n",
        "\n",
        "# print test accuracy\n",
        "print('Test accuracy: %.4f%%' % accuracy)"
      ],
      "execution_count": 0,
      "outputs": []
    },
    {
      "metadata": {
        "id": "iGYLOm7-oyNk",
        "colab_type": "text"
      },
      "cell_type": "markdown",
      "source": [
        "### 9. Train the Model"
      ]
    },
    {
      "metadata": {
        "id": "bHAQldrToyNk",
        "colab_type": "code",
        "colab": {}
      },
      "cell_type": "code",
      "source": [
        "from keras.callbacks import ModelCheckpoint   \n",
        "\n",
        "# train the model\n",
        "checkpointer = ModelCheckpoint(filepath='mnist.model.best.hdf5', \n",
        "                               verbose=1, save_best_only=True)\n",
        "hist = model.fit(X_train, y_train, batch_size=128, epochs=10,\n",
        "          validation_split=0.2, callbacks=[checkpointer],\n",
        "          verbose=1, shuffle=True)"
      ],
      "execution_count": 0,
      "outputs": []
    },
    {
      "metadata": {
        "id": "V_Rh3GsZoyNo",
        "colab_type": "text"
      },
      "cell_type": "markdown",
      "source": [
        "### 10. Load the Model with the Best Classification Accuracy on the Validation Set"
      ]
    },
    {
      "metadata": {
        "id": "zlrcc47woyNp",
        "colab_type": "code",
        "colab": {}
      },
      "cell_type": "code",
      "source": [
        "# load the weights that yielded the best validation accuracy\n",
        "model.load_weights('mnist.model.best.hdf5')"
      ],
      "execution_count": 0,
      "outputs": []
    },
    {
      "metadata": {
        "id": "xA-orSyUoyNr",
        "colab_type": "text"
      },
      "cell_type": "markdown",
      "source": [
        "### 11. Calculate the Classification Accuracy on the Test Set"
      ]
    },
    {
      "metadata": {
        "id": "TKd3cwIhoyNr",
        "colab_type": "code",
        "colab": {}
      },
      "cell_type": "code",
      "source": [
        "# evaluate test accuracy\n",
        "score = model.evaluate(X_test, y_test, verbose=0)\n",
        "accuracy = 100*score[1]\n",
        "\n",
        "# print test accuracy\n",
        "print('Test accuracy: %.4f%%' % accuracy)"
      ],
      "execution_count": 0,
      "outputs": []
    }
  ]
}