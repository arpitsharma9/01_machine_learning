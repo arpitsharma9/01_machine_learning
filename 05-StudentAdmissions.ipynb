{
    "nbformat_minor": 2, 
    "cells": [
        {
            "source": "# Predicting Student Admissions with Neural Networks\nIn this notebook, we predict student admissions to graduate school at UCLA based on three pieces of data:\n- GRE Scores (Test)\n- GPA Scores (Grades)\n- Class rank (1-4)\n\nThe dataset originally came from here: http://www.ats.ucla.edu/\n\n## Loading the data\nTo load the data and format it nicely, we will use two very useful packages called Pandas and Numpy. You can read on the documentation here:\n- https://pandas.pydata.org/pandas-docs/stable/\n- https://docs.scipy.org/", 
            "cell_type": "markdown", 
            "metadata": {}
        }, 
        {
            "execution_count": null, 
            "cell_type": "code", 
            "metadata": {
                "collapsed": true
            }, 
            "outputs": [], 
            "source": "# Importing pandas and numpy\nimport pandas as pd\nimport numpy as np\n\n# Reading the csv file into a pandas DataFrame\ndata = pd.read_csv('student_data.csv')\n\n# Printing out the first 10 rows of our data\ndata[:10]"
        }, 
        {
            "source": "## Plotting the data\n\nFirst let's make a plot of our data to see how it looks. In order to have a 2D plot, let's ingore the rank.", 
            "cell_type": "markdown", 
            "metadata": {}
        }, 
        {
            "execution_count": null, 
            "cell_type": "code", 
            "metadata": {
                "collapsed": true
            }, 
            "outputs": [], 
            "source": "# Importing matplotlib\nimport matplotlib.pyplot as plt\n\n# Function to help us plot\ndef plot_points(data):\n    X = np.array(data[[\"gre\",\"gpa\"]])\n    y = np.array(data[\"admit\"])\n    admitted = X[np.argwhere(y==1)]\n    rejected = X[np.argwhere(y==0)]\n    plt.scatter([s[0][0] for s in rejected], [s[0][1] for s in rejected], s = 25, color = 'red', edgecolor = 'k')\n    plt.scatter([s[0][0] for s in admitted], [s[0][1] for s in admitted], s = 25, color = 'cyan', edgecolor = 'k')\n    plt.xlabel('Test (GRE)')\n    plt.ylabel('Grades (GPA)')\n    \n# Plotting the points\nplot_points(data)\nplt.show()"
        }, 
        {
            "source": "Roughly, it looks like the students with high scores in the grades and test passed, while the ones with low scores didn't, but the data is not as nicely separable as we hoped it would. Maybe it would help to take the rank into account? Let's make 4 plots, each one for each rank.", 
            "cell_type": "markdown", 
            "metadata": {}
        }, 
        {
            "execution_count": null, 
            "cell_type": "code", 
            "metadata": {
                "collapsed": true
            }, 
            "outputs": [], 
            "source": "# Separating the ranks\ndata_rank1 = data[data[\"rank\"]==1]\ndata_rank2 = data[data[\"rank\"]==2]\ndata_rank3 = data[data[\"rank\"]==3]\ndata_rank4 = data[data[\"rank\"]==4]\n\n# Plotting the graphs\nplot_points(data_rank1)\nplt.title(\"Rank 1\")\nplt.show()\nplot_points(data_rank2)\nplt.title(\"Rank 2\")\nplt.show()\nplot_points(data_rank3)\nplt.title(\"Rank 3\")\nplt.show()\nplot_points(data_rank4)\nplt.title(\"Rank 4\")\nplt.show()"
        }, 
        {
            "source": "This looks more promising, as it seems that the lower the rank, the higher the acceptance rate. Let's use the rank as one of our inputs. In order to do this, we should one-hot encode it.\n\n## TODO: One-hot encoding the rank\nUse the `get_dummies` function in numpy in order to one-hot encode the data.", 
            "cell_type": "markdown", 
            "metadata": {}
        }, 
        {
            "execution_count": null, 
            "cell_type": "code", 
            "metadata": {
                "collapsed": true
            }, 
            "outputs": [], 
            "source": "# TODO:  Make dummy variables for rank\none_hot_data = pass\n\n# TODO: Drop the previous rank column\none_hot_data = pass\n\n# Print the first 10 rows of our data\none_hot_data[:10]"
        }, 
        {
            "source": "## TODO: Scaling the data\nThe next step is to scale the data. We notice that the range for grades is 1.0-4.0, whereas the range for test scores is roughly 200-800, which is much larger. This means our data is skewed, and that makes it hard for a neural network to handle. Let's fit our two features into a range of 0-1, by dividing the grades by 4.0, and the test score by 800.", 
            "cell_type": "markdown", 
            "metadata": {}
        }, 
        {
            "execution_count": null, 
            "cell_type": "code", 
            "metadata": {
                "collapsed": true
            }, 
            "outputs": [], 
            "source": "# Making a copy of our data\nprocessed_data = one_hot_data[:]\n\n# TODO: Scale the columns\n\n# Printing the first 10 rows of our procesed data\nprocessed_data[:10]"
        }, 
        {
            "source": "## Splitting the data into Training and Testing", 
            "cell_type": "markdown", 
            "metadata": {}
        }, 
        {
            "source": "In order to test our algorithm, we'll split the data into a Training and a Testing set. The size of the testing set will be 10% of the total data.", 
            "cell_type": "markdown", 
            "metadata": {}
        }, 
        {
            "execution_count": null, 
            "cell_type": "code", 
            "metadata": {
                "collapsed": true
            }, 
            "outputs": [], 
            "source": "sample = np.random.choice(processed_data.index, size=int(len(processed_data)*0.9), replace=False)\ntrain_data, test_data = processed_data.iloc[sample], processed_data.drop(sample)\n\nprint(\"Number of training samples is\", len(train_data))\nprint(\"Number of testing samples is\", len(test_data))\nprint(train_data[:10])\nprint(test_data[:10])"
        }, 
        {
            "source": "## Splitting the data into features and targets (labels)\nNow, as a final step before the training, we'll split the data into features (X) and targets (y).", 
            "cell_type": "markdown", 
            "metadata": {}
        }, 
        {
            "execution_count": null, 
            "cell_type": "code", 
            "metadata": {
                "collapsed": true
            }, 
            "outputs": [], 
            "source": "features = train_data.drop('admit', axis=1)\ntargets = train_data['admit']\nfeatures_test = test_data.drop('admit', axis=1)\ntargets_test = test_data['admit']\n\nprint(features[:10])\nprint(targets[:10])"
        }, 
        {
            "source": "## Training the 2-layer Neural Network\nThe following function trains the 2-layer neural network. First, we'll write some helper functions.", 
            "cell_type": "markdown", 
            "metadata": {}
        }, 
        {
            "execution_count": null, 
            "cell_type": "code", 
            "metadata": {
                "collapsed": true
            }, 
            "outputs": [], 
            "source": "# Activation (sigmoid) function\ndef sigmoid(x):\n    return 1 / (1 + np.exp(-x))\ndef sigmoid_prime(x):\n    return sigmoid(x) * (1-sigmoid(x))\ndef error_formula(y, output):\n    return - y*np.log(output) - (1 - y) * np.log(1-output)"
        }, 
        {
            "source": "# TODO: Backpropagate the error\nNow it's your turn to shine. Write the error term. Remember that this is given by the equation $$ -(y-\\hat{y}) \\sigma'(x) $$", 
            "cell_type": "markdown", 
            "metadata": {}
        }, 
        {
            "execution_count": null, 
            "cell_type": "code", 
            "metadata": {
                "collapsed": true
            }, 
            "outputs": [], 
            "source": "# TODO: Write the error term formula\ndef error_term_formula(y, output):\n    pass"
        }, 
        {
            "execution_count": null, 
            "cell_type": "code", 
            "metadata": {
                "collapsed": true
            }, 
            "outputs": [], 
            "source": "# Neural Network hyperparameters\nepochs = 1000\nlearnrate = 0.5\n\n# Training function\ndef train_nn(features, targets, epochs, learnrate):\n    \n    # Use to same seed to make debugging easier\n    np.random.seed(42)\n\n    n_records, n_features = features.shape\n    last_loss = None\n\n    # Initialize weights\n    weights = np.random.normal(scale=1 / n_features**.5, size=n_features)\n\n    for e in range(epochs):\n        del_w = np.zeros(weights.shape)\n        for x, y in zip(features.values, targets):\n            # Loop through all records, x is the input, y is the target\n\n            # Activation of the output unit\n            #   Notice we multiply the inputs and the weights here \n            #   rather than storing h as a separate variable \n            output = sigmoid(np.dot(x, weights))\n\n            # The error, the target minus the network output\n            error = error_formula(y, output)\n\n            # The error term\n            #   Notice we calulate f'(h) here instead of defining a separate\n            #   sigmoid_prime function. This just makes it faster because we\n            #   can re-use the result of the sigmoid function stored in\n            #   the output variable\n            error_term = error_term_formula(y, output)\n\n            # The gradient descent step, the error times the gradient times the inputs\n            del_w += error_term * x\n\n        # Update the weights here. The learning rate times the \n        # change in weights, divided by the number of records to average\n        weights += learnrate * del_w / n_records\n\n        # Printing out the mean square error on the training set\n        if e % (epochs / 10) == 0:\n            out = sigmoid(np.dot(features, weights))\n            loss = np.mean((out - targets) ** 2)\n            print(\"Epoch:\", e)\n            if last_loss and last_loss < loss:\n                print(\"Train loss: \", loss, \"  WARNING - Loss Increasing\")\n            else:\n                print(\"Train loss: \", loss)\n            last_loss = loss\n            print(\"=========\")\n    print(\"Finished training!\")\n    return weights\n    \nweights = train_nn(features, targets, epochs, learnrate)"
        }, 
        {
            "source": "## Calculating the Accuracy on the Test Data", 
            "cell_type": "markdown", 
            "metadata": {}
        }, 
        {
            "execution_count": null, 
            "cell_type": "code", 
            "metadata": {
                "collapsed": true
            }, 
            "outputs": [], 
            "source": "# Calculate accuracy on test data\ntes_out = sigmoid(np.dot(features_test, weights))\npredictions = tes_out > 0.5\naccuracy = np.mean(predictions == targets_test)\nprint(\"Prediction accuracy: {:.3f}\".format(accuracy))"
        }, 
        {
            "execution_count": null, 
            "cell_type": "code", 
            "metadata": {
                "collapsed": true
            }, 
            "outputs": [], 
            "source": ""
        }
    ], 
    "metadata": {
        "kernelspec": {
            "display_name": "Python [default]", 
            "name": "python3", 
            "language": "python"
        }, 
        "language_info": {
            "mimetype": "text/x-python", 
            "nbconvert_exporter": "python", 
            "version": "3.6.4", 
            "name": "python", 
            "file_extension": ".py", 
            "pygments_lexer": "ipython3", 
            "codemirror_mode": {
                "version": 3, 
                "name": "ipython"
            }
        }
    }, 
    "nbformat": 4
}