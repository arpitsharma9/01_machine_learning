{
    "nbformat_minor": 1, 
    "cells": [
        {
            "execution_count": 4, 
            "cell_type": "code", 
            "metadata": {}, 
            "outputs": [
                {
                    "output_type": "stream", 
                    "name": "stdout", 
                    "text": "_________________________________________________________________\nLayer (type)                 Output Shape              Param #   \n=================================================================\ndense_5 (Dense)              (None, 32)                96        \n_________________________________________________________________\nactivation_5 (Activation)    (None, 32)                0         \n_________________________________________________________________\ndense_6 (Dense)              (None, 2)                 66        \n_________________________________________________________________\nactivation_6 (Activation)    (None, 2)                 0         \n=================================================================\nTotal params: 162\nTrainable params: 162\nNon-trainable params: 0\n_________________________________________________________________\n4/4 [==============================] - 0s 18ms/step\n\nAccuracy:  1.0\n\nPredictions:\n[[ 0.68987852  0.34194154]\n [ 0.35868031  0.61998355]\n [ 0.33830935  0.63081414]\n [ 0.65389097  0.37747827]]\n"
                }
            ], 
            "source": "import numpy as np\nfrom keras.utils import np_utils\nimport tensorflow as tf\n# Using TensorFlow 1.0.0; use tf.python_io in later versions\ntf.python_io.control_flow_ops = tf\n\n# Set random seed\nnp.random.seed(42)\n\n# Our data\nX = np.array([[0,0],[0,1],[1,0],[1,1]]).astype('float32')\ny = np.array([[0],[1],[1],[0]]).astype('float32')\n\n# Initial Setup for Keras\nfrom keras.models import Sequential\nfrom keras.layers.core import Dense, Activation\n\n# One-hot encoding the output\ny = np_utils.to_categorical(y)\n\n\n# Building the model\nxor = Sequential()\n\n# Add required layers\n# 1st Layer - Add an input layer of 8 nodes with the same input shape as\n    # the training samples in X\nxor.add(Dense(32, input_dim=X.shape[1]))\nxor.add(Activation('tanh'))\n\n# 2nd Layer - Add a fully connected output layer\nxor.add(Dense(2))\n\n# Add a sigmoid activation layer\nxor.add(Activation('sigmoid'))\n\n\n# Specify loss as \"binary_crossentropy\", optimizer as \"adam\",\n# and add the accuracy metric\nxor.compile(loss=\"binary_crossentropy\", optimizer=\"adam\", metrics = [\"accuracy\"])\n\n# Uncomment this line to print the model architecture\nxor.summary()\n\n# Fitting the model\nhistory = xor.fit(X, y, epochs=300, verbose=0)\n\n# Scoring the model\nscore = xor.evaluate(X, y)\nprint(\"\\nAccuracy: \", score[-1])\n\n# Checking the predictions\nprint(\"\\nPredictions:\")\nprint(xor.predict_proba(X))"
        }, 
        {
            "execution_count": null, 
            "cell_type": "code", 
            "metadata": {}, 
            "outputs": [], 
            "source": ""
        }
    ], 
    "metadata": {
        "kernelspec": {
            "display_name": "Python 3.5", 
            "name": "python3", 
            "language": "python"
        }, 
        "language_info": {
            "mimetype": "text/x-python", 
            "nbconvert_exporter": "python", 
            "version": "3.5.5", 
            "name": "python", 
            "file_extension": ".py", 
            "pygments_lexer": "ipython3", 
            "codemirror_mode": {
                "version": 3, 
                "name": "ipython"
            }
        }
    }, 
    "nbformat": 4
}